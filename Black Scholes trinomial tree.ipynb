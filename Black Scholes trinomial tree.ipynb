{
 "cells": [
  {
   "cell_type": "markdown",
   "metadata": {
    "deletable": true,
    "editable": true
   },
   "source": [
    "# The model"
   ]
  },
  {
   "cell_type": "markdown",
   "metadata": {
    "deletable": true,
    "editable": true
   },
   "source": [
    "## Black Scholes model"
   ]
  },
  {
   "cell_type": "markdown",
   "metadata": {
    "deletable": true,
    "editable": true
   },
   "source": [
    "Under the risk neutral probability measure $\\mathbb{Q}$, the underlying is defined as a geometric Brownian motion solving the following SDE:\n",
    "\n",
    "\\begin{equation}\n",
    "\\begin{cases}\n",
    "\\frac{d S_t}{S_t} = r dt + \\sigma d W_t \\\\\n",
    "S_0 = x\n",
    "\\end{cases}\n",
    "\\end{equation}"
   ]
  },
  {
   "cell_type": "markdown",
   "metadata": {
    "deletable": true,
    "editable": true
   },
   "source": [
    "From that SDE, one can explcitiely compute the first two moments of $S$:\n",
    "\n",
    "\\begin{equation}\n",
    "\\begin{cases}\n",
    "\\mathbb{E}_t^{\\mathbb{Q}} (S_{t+h}) = S_t e^{r h} \\\\\n",
    "\\mathbb{E}_t^{\\mathbb{Q}} (S_{t+h}^2) = S_t^2 e^{2 r h + \\sigma^2 h}\n",
    "\\end{cases}\n",
    "\\end{equation}"
   ]
  },
  {
   "cell_type": "markdown",
   "metadata": {
    "ExecuteTime": {
     "end_time": "2017-04-04T08:25:41.296601Z",
     "start_time": "2017-04-04T10:25:41.280606+02:00"
    },
    "deletable": true,
    "editable": true
   },
   "source": [
    "## The trinomial tree model matching the Black-Scholes model"
   ]
  },
  {
   "cell_type": "markdown",
   "metadata": {
    "deletable": true,
    "editable": true
   },
   "source": [
    "In the sequel, we will use a recombining tree to model the underlying moves.\n",
    "We define by $u, u > 1$, some multiplicative factor of the underlying from time $t$ to time $t+h$.\n",
    "In the trinomial model, the underlying at time $t+h$ can take 3 values knowing the $S_t$:\n",
    "\n",
    "\\begin{equation}\n",
    "\\begin{cases}\n",
    "S_{t+h} = u \\times S_t > S_t \\text { with probability } p_u \\\\\n",
    "S_{t+h} = d \\times S_t < S_t \\text { with probability } p_d \\\\\n",
    "S_{t+h} = S_t \\text { with probability } p_m = 1 - p_u - p_d \\\\\n",
    "\\end{cases}\n",
    "\\end{equation}\n",
    "\n",
    "with by vertue of our recombining assumption, $d = \\frac{1}{u}$."
   ]
  },
  {
   "cell_type": "markdown",
   "metadata": {
    "deletable": true,
    "editable": true
   },
   "source": [
    "That is, given $u$, we must find the matching probabilities $p_u, p_d, p_m$ matching the Black-Scholes model.\n",
    "Thus we have 3 unknown variables. We must at least give 3 independent equations to solve the system.\n",
    "\n",
    "The probabilities should be non negative and summing to one, which is already written for the definition of $p_m$. We are left with 2 unknown variables $p_u$ and $p_d$. \n",
    "Matching the first two moments given above we have:\n",
    "\n",
    "\\begin{equation}\n",
    "\\begin{cases}\n",
    "\\mathbb{E}_t^{\\mathbb{Q}} (S_{t+h}) = S_t e^{r h} = S_t \\left(u p_u + (1 - p_u - p_m) + d p_d \\right) \\\\\n",
    "\\mathbb{E}_t^{\\mathbb{Q}} (S_{t+h}^2) = S_t^2 e^{2 r h + \\sigma^2 h} = S_t^2 \\left(u^2 p_u + (1 - p_u - p_m) + d^2 p_d \\right)\n",
    "\\end{cases}\n",
    "\\end{equation}"
   ]
  },
  {
   "cell_type": "markdown",
   "metadata": {
    "deletable": true,
    "editable": true
   },
   "source": [
    "So we have:\n",
    "$$\n",
    "\\begin{bmatrix}\n",
    "e^{r h} - 1 \\\\\n",
    "e^{2rh + \\sigma^2 h} - 1\n",
    "\\end{bmatrix}\n",
    "= \n",
    "\\begin{bmatrix}\n",
    "u - 1 & d - 1 \\\\\n",
    "u^2 - 1 & d^2 - 1\n",
    "\\end{bmatrix}\n",
    "\\begin{bmatrix}\n",
    "p_u \\\\\n",
    "p_d\n",
    "\\end{bmatrix}\n",
    "$$\n",
    "or equivalently, solving the linear system:\n",
    "$$\n",
    "\\begin{bmatrix}\n",
    "u - 1 & d - 1 \\\\\n",
    "u^2 - 1 & d^2 - 1\n",
    "\\end{bmatrix}^{-1}\n",
    "\\begin{bmatrix}\n",
    "e^{r h} - 1 \\\\\n",
    "e^{2rh + \\sigma^2 h} - 1\n",
    "\\end{bmatrix}\n",
    "= \n",
    "\\begin{bmatrix}\n",
    "p_u \\\\\n",
    "p_d\n",
    "\\end{bmatrix}\n",
    "$$\n",
    "and $p_m := 1 - p_u - p_d$.\n",
    "\n",
    "Moreover, once the computation is done, one should check that all the probabilities are non negative."
   ]
  },
  {
   "cell_type": "code",
   "execution_count": 1,
   "metadata": {
    "ExecuteTime": {
     "end_time": "2017-04-04T08:44:49.867878Z",
     "start_time": "2017-04-04T10:44:42.804057+02:00"
    },
    "collapsed": false,
    "deletable": true,
    "editable": true
   },
   "outputs": [],
   "source": [
    "import numpy as np\n",
    "\n",
    "from numpy.linalg import inv\n",
    "from scipy.stats import norm"
   ]
  },
  {
   "cell_type": "code",
   "execution_count": 2,
   "metadata": {
    "ExecuteTime": {
     "end_time": "2017-04-04T08:44:50.079041Z",
     "start_time": "2017-04-04T10:44:49.871840+02:00"
    },
    "collapsed": false,
    "deletable": true,
    "editable": true
   },
   "outputs": [],
   "source": [
    "class TrinomialBSModel(object):\n",
    "    def __init__(self, S0=100., r=0.02, sigma=0.2, mat=1.):\n",
    "        self.__s0 = S0\n",
    "        self.__r = r\n",
    "        self.__sigma = sigma\n",
    "        self.__T = mat\n",
    "        \n",
    "    def __compute_probs(self):\n",
    "        B = np.array([-1. + np.exp(self.__r * self.__h), \n",
    "                      -1. + np.exp(2. * self.__r * self.__h + self.__sigma**2 * self.__h)])\n",
    "        \n",
    "        d = self.__down\n",
    "        u = self.__up\n",
    "        \n",
    "        A = np.array([[u - 1., d - 1.], \n",
    "                      [u**2 - 1., d**2 - 1.]])\n",
    "        \n",
    "        res = inv(A).dot(B)\n",
    "        \n",
    "        self.__pu = res[0]\n",
    "        self.__pd = res[1]\n",
    "        self.__pm = 1. - self.__pu - self.__pd\n",
    "        \n",
    "        assert 0 <= self.__pu <= 1., 'p_u should lie in [0, 1] given %s' % self.__pu\n",
    "        assert 0 <= self.__pd <= 1., 'p_d should lie in [0, 1] given %s' % self.__pd\n",
    "        assert 0 <= self.__pm <= 1., 'p_m should lie in [0, 1] given %s' % self.__pm\n",
    "        \n",
    "    def __check_up_value(self, up):\n",
    "        if up is None:\n",
    "            lbda = np.sqrt(0.5 * np.pi)\n",
    "            up = np.exp(lbda * self.__sigma * np.sqrt(self.__h))\n",
    "            \n",
    "        assert up >= 0., 'up should be non negative'\n",
    "        \n",
    "        down = 1. / up\n",
    "        assert down < up, 'up <= 1. / up = down'\n",
    "                \n",
    "        self.__up = up\n",
    "        self.__down = down\n",
    "        \n",
    "    def __gen_stock_vec(self, nb):\n",
    "        vec_u = self.__up * np.ones(nb)\n",
    "        np.cumprod(vec_u, out=vec_u)\n",
    "\n",
    "        vec_d = self.__down * np.ones(nb)\n",
    "        np.cumprod(vec_d, out=vec_d)\n",
    "        \n",
    "        res = np.concatenate((vec_d[::-1], [1.], vec_u))\n",
    "        res *= self.__s0\n",
    "        \n",
    "        return res\n",
    "    \n",
    "    def payoff(self, stock_vec):\n",
    "        raise NotImplementedError()\n",
    "        \n",
    "    def compute_current_price(self, crt_vec_stock, nxt_vec_prices):\n",
    "        expectation = np.zeros(crt_vec_stock.size)\n",
    "        for i in range(expectation.size):\n",
    "            tmp = nxt_vec_prices[i] * self.__pd\n",
    "            tmp += nxt_vec_prices[i + 1] * self.__pm\n",
    "            tmp += nxt_vec_prices[i + 2] * self.__pu\n",
    "            \n",
    "            expectation[i] = tmp\n",
    "            \n",
    "        return self.__discount * expectation\n",
    "        \n",
    "    def price(self, nb_steps, up=None):\n",
    "        assert nb_steps > 0, 'nb_steps shoud be > 0'\n",
    "        \n",
    "        nb_steps = int(nb_steps)\n",
    "        \n",
    "        self.__h = self.__T / nb_steps\n",
    "        self.__check_up_value(up)\n",
    "        self.__compute_probs()\n",
    "        \n",
    "        self.__discount = np.exp(-self.__r * self.__h)\n",
    "       \n",
    "        final_vec_stock = self.__gen_stock_vec(nb_steps)\n",
    "        final_payoff = self.payoff(final_vec_stock)\n",
    "        nxt_vec_prices = final_payoff\n",
    "        \n",
    "        for i in range(1, nb_steps + 1):\n",
    "            vec_stock = self.__gen_stock_vec(nb_steps - i)\n",
    "            nxt_vec_prices = self.compute_current_price(vec_stock, nxt_vec_prices)\n",
    "            \n",
    "        return nxt_vec_prices[0]\n",
    "        \n",
    "class TrinomialBSCall(TrinomialBSModel):\n",
    "    def __init__(self, S0=100., r=0.02, sigma=0.2, mat=1., K=100.):\n",
    "        super(TrinomialBSCall, self).__init__(S0, r, sigma, mat)\n",
    "        self.__K = K\n",
    "    \n",
    "    def payoff(self, s):\n",
    "        return np.maximum(s - self.__K, 0.)"
   ]
  },
  {
   "cell_type": "code",
   "execution_count": 3,
   "metadata": {
    "ExecuteTime": {
     "end_time": "2017-04-04T08:44:50.111042Z",
     "start_time": "2017-04-04T10:44:50.079041+02:00"
    },
    "collapsed": true,
    "deletable": true,
    "editable": true
   },
   "outputs": [],
   "source": [
    "def bs_call_price(S=100., r=0.02, sigma=0.2, t=0., T=1., K=100.):\n",
    "    ttm = T - t\n",
    "    \n",
    "    if ttm < 0:\n",
    "        return 0.\n",
    "    elif ttm == 0.:\n",
    "        return np.maximum(S - K, 0.)\n",
    "\n",
    "    vol = sigma * np.sqrt(ttm)\n",
    "\n",
    "    d_minus = np.log(S / K) + (r - 0.5 * sigma**2) * ttm\n",
    "    d_minus /= vol\n",
    "\n",
    "    d_plus = d_minus + vol\n",
    "\n",
    "    res = S * norm.cdf(d_plus)\n",
    "    res -= K * np.exp(-r * ttm) * norm.cdf(d_minus)\n",
    "\n",
    "    return res"
   ]
  },
  {
   "cell_type": "code",
   "execution_count": 4,
   "metadata": {
    "ExecuteTime": {
     "end_time": "2017-04-04T08:44:52.281101Z",
     "start_time": "2017-04-04T10:44:50.115044+02:00"
    },
    "collapsed": false,
    "deletable": true,
    "editable": true
   },
   "outputs": [
    {
     "name": "stdout",
     "output_type": "stream",
     "text": [
      "8.91559126943\n",
      "8.91603727857\n"
     ]
    }
   ],
   "source": [
    "tree = TrinomialBSCall()\n",
    "\n",
    "print(tree.price(1000))\n",
    "print(bs_call_price())"
   ]
  }
 ],
 "metadata": {
  "kernelspec": {
   "display_name": "Python 3",
   "language": "python",
   "name": "python3"
  },
  "language_info": {
   "codemirror_mode": {
    "name": "ipython",
    "version": 3
   },
   "file_extension": ".py",
   "mimetype": "text/x-python",
   "name": "python",
   "nbconvert_exporter": "python",
   "pygments_lexer": "ipython3",
   "version": "3.6.0"
  },
  "latex_envs": {
   "LaTeX_envs_menu_present": true,
   "autocomplete": true,
   "bibliofile": "biblio.bib",
   "cite_by": "apalike",
   "current_citInitial": 1,
   "eqLabelWithNumbers": true,
   "eqNumInitial": 1,
   "hotkeys": {
    "equation": "Ctrl-E",
    "itemize": "Ctrl-I"
   },
   "labels_anchors": false,
   "latex_user_defs": false,
   "report_style_numbering": false,
   "user_envs_cfg": false
  }
 },
 "nbformat": 4,
 "nbformat_minor": 2
}
